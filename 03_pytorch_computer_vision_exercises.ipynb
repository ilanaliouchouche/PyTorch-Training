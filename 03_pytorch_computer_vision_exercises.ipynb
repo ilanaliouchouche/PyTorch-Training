{
  "cells": [
    {
      "cell_type": "markdown",
      "metadata": {
        "colab_type": "text",
        "id": "view-in-github"
      },
      "source": [
        "<a href=\"https://colab.research.google.com/github/mrdbourke/pytorch-deep-learning/blob/main/extras/exercises/03_pytorch_computer_vision_exercises.ipynb\" target=\"_parent\"><img src=\"https://colab.research.google.com/assets/colab-badge.svg\" alt=\"Open In Colab\"/></a>"
      ]
    },
    {
      "cell_type": "markdown",
      "metadata": {
        "id": "Vex99np2wFVt"
      },
      "source": [
        "# 03. PyTorch Computer Vision Exercises\n",
        "\n",
        "The following is a collection of exercises based on computer vision fundamentals in PyTorch.\n",
        "\n",
        "They're a bunch of fun.\n",
        "\n",
        "You're going to get to write plenty of code!\n",
        "\n",
        "## Resources\n",
        "\n",
        "1. These exercises are based on [notebook 03 of the Learn PyTorch for Deep Learning course](https://www.learnpytorch.io/03_pytorch_computer_vision/). \n",
        "2. See a live [walkthrough of the solutions (errors and all) on YouTube](https://youtu.be/_PibmqpEyhA). \n",
        "  * **Note:** Going through these exercises took me just over 3 hours of solid coding, so you should expect around the same.\n",
        "3. See [other solutions on the course GitHub](https://github.com/mrdbourke/pytorch-deep-learning/tree/main/extras/solutions)."
      ]
    },
    {
      "cell_type": "code",
      "execution_count": 1,
      "metadata": {
        "colab": {
          "base_uri": "https://localhost:8080/"
        },
        "id": "GaeYzOTLwWh2",
        "outputId": "17dd5453-9639-4b01-aa18-7ddbfd5c3253"
      },
      "outputs": [
        {
          "name": "stdout",
          "output_type": "stream",
          "text": [
            "Thu Feb  8 15:00:32 2024       \n",
            "+-----------------------------------------------------------------------------+\n",
            "| NVIDIA-SMI 516.59       Driver Version: 516.59       CUDA Version: 11.7     |\n",
            "|-------------------------------+----------------------+----------------------+\n",
            "| GPU  Name            TCC/WDDM | Bus-Id        Disp.A | Volatile Uncorr. ECC |\n",
            "| Fan  Temp  Perf  Pwr:Usage/Cap|         Memory-Usage | GPU-Util  Compute M. |\n",
            "|                               |                      |               MIG M. |\n",
            "|===============================+======================+======================|\n",
            "|   0  NVIDIA GeForce ... WDDM  | 00000000:01:00.0 Off |                  N/A |\n",
            "| N/A   42C    P8     2W /  N/A |      0MiB /  4096MiB |      0%      Default |\n",
            "|                               |                      |                  N/A |\n",
            "+-------------------------------+----------------------+----------------------+\n",
            "                                                                               \n",
            "+-----------------------------------------------------------------------------+\n",
            "| Processes:                                                                  |\n",
            "|  GPU   GI   CI        PID   Type   Process name                  GPU Memory |\n",
            "|        ID   ID                                                   Usage      |\n",
            "|=============================================================================|\n",
            "|  No running processes found                                                 |\n",
            "+-----------------------------------------------------------------------------+\n"
          ]
        }
      ],
      "source": [
        "# Check for GPU\n",
        "!nvidia-smi"
      ]
    },
    {
      "cell_type": "code",
      "execution_count": 5,
      "metadata": {
        "colab": {
          "base_uri": "https://localhost:8080/",
          "height": 53
        },
        "id": "DNwZLMbCzJLk",
        "outputId": "9c150c50-a092-4f34-9d33-b45247fb080d"
      },
      "outputs": [
        {
          "name": "stdout",
          "output_type": "stream",
          "text": [
            "2.2.0+cpu\n",
            "0.17.0+cpu\n",
            "cpu\n"
          ]
        }
      ],
      "source": [
        "# Import torch\n",
        "import torch\n",
        "\n",
        "# Exercises require PyTorch > 1.10.0\n",
        "print(torch.__version__)\n",
        "\n",
        "# TODO: Setup device agnostic code\n",
        "import torchvision\n",
        "print(torchvision.__version__)\n",
        "\n",
        "device = 'cuda' if torch.cuda.is_available() else 'cpu'\n",
        "print(device)"
      ]
    },
    {
      "cell_type": "markdown",
      "metadata": {
        "id": "FSFX7tc1w-en"
      },
      "source": [
        "## 1. What are 3 areas in industry where computer vision is currently being used?"
      ]
    },
    {
      "cell_type": "markdown",
      "metadata": {
        "id": "VyWRkvWGbCXj"
      },
      "source": [
        "- Smartphone\n",
        "- Cars\n",
        "- Security"
      ]
    },
    {
      "cell_type": "markdown",
      "metadata": {
        "id": "oBK-WI6YxDYa"
      },
      "source": [
        "## 2. Search \"what is overfitting in machine learning\" and write down a sentence about what you find. "
      ]
    },
    {
      "cell_type": "markdown",
      "metadata": {
        "id": "d1rxD6GObCqh"
      },
      "source": [
        "- Good performance during the train step, but not during the validation step."
      ]
    },
    {
      "cell_type": "markdown",
      "metadata": {
        "id": "XeYFEqw8xK26"
      },
      "source": [
        "## 3. Search \"ways to prevent overfitting in machine learning\", write down 3 of the things you find and a sentence about each. \n",
        "> **Note:** there are lots of these, so don't worry too much about all of them, just pick 3 and start with those."
      ]
    },
    {
      "cell_type": "markdown",
      "metadata": {
        "id": "ocvOdWKcbEKr"
      },
      "source": [
        "- First, obviously the train-test-split for see if there is overfitting.\n",
        "- Secondly, regularization such as Ridge or Lasso.\n",
        "- Finally, Dimension reduction can't prevent overfitting.  \n",
        "I choose some classics, but I could talk about dropout or auxiliary classifier, utilization of Bagging algorithms..."
      ]
    },
    {
      "cell_type": "markdown",
      "metadata": {
        "id": "DKdEEFEqxM-8"
      },
      "source": [
        "## 4. Spend 20-minutes reading and clicking through the [CNN Explainer website](https://poloclub.github.io/cnn-explainer/).\n",
        "\n",
        "* Upload your own example image using the \"upload\" button on the website and see what happens in each layer of a CNN as your image passes through it."
      ]
    },
    {
      "cell_type": "markdown",
      "metadata": {
        "id": "lvf-3pODxXYI"
      },
      "source": [
        "## 5. Load the [`torchvision.datasets.MNIST()`](https://pytorch.org/vision/stable/generated/torchvision.datasets.MNIST.html#torchvision.datasets.MNIST) train and test datasets."
      ]
    },
    {
      "cell_type": "code",
      "execution_count": 44,
      "metadata": {},
      "outputs": [
        {
          "name": "stdout",
          "output_type": "stream",
          "text": [
            "10\n"
          ]
        }
      ],
      "source": [
        "from torchvision import datasets\n",
        "from torchvision.transforms import ToTensor\n",
        "\n",
        "train_dataset = datasets.FashionMNIST(\n",
        "    root = \"data\",\n",
        "    train = True,\n",
        "    transform=ToTensor(),\n",
        "    download=False,\n",
        "    target_transform=None\n",
        ")\n",
        "\n",
        "test_dataset = datasets.FashionMNIST(\n",
        "    root = \"data\",\n",
        "    train = False,\n",
        "    transform=ToTensor(),\n",
        "    download=False,\n",
        "    target_transform=None\n",
        ")\n",
        "print(len(train_dataset.classes))"
      ]
    },
    {
      "cell_type": "markdown",
      "metadata": {
        "id": "qxZW-uAbxe_F"
      },
      "source": [
        "## 6. Visualize at least 5 different samples of the MNIST training dataset."
      ]
    },
    {
      "cell_type": "code",
      "execution_count": 30,
      "metadata": {
        "id": "QVFsYi1PbItE"
      },
      "outputs": [
        {
          "data": {
            "image/png": "[encoded data removed]",
            "text/plain": [
              "<Figure size 600x600 with 6 Axes>"
            ]
          },
          "metadata": {},
          "output_type": "display_data"
        }
      ],
      "source": [
        "torch.manual_seed(42)\n",
        "import matplotlib.pyplot as plt\n",
        "\n",
        "idx = torch.randint(0, len(train_dataset), size=[6])\n",
        "samples = train_dataset.data[idx]\n",
        "fig, axs = plt.subplots(2,3,figsize=(6, 6))\n",
        "index = 0\n",
        "for i in range(2):\n",
        "    for j in range(3):\n",
        "        axs[i,j].imshow(samples[index], cmap = 'gray')\n",
        "        axs[i,j].axis('off')\n",
        "        index += 1\n",
        "\n",
        "plt.show()"
      ]
    },
    {
      "cell_type": "markdown",
      "metadata": {
        "id": "JAPDzW0wxhi3"
      },
      "source": [
        "## 7. Turn the MNIST train and test datasets into dataloaders using `torch.utils.data.DataLoader`, set the `batch_size=32`."
      ]
    },
    {
      "cell_type": "code",
      "execution_count": 40,
      "metadata": {
        "id": "ALA6MPcFbJXQ"
      },
      "outputs": [],
      "source": [
        "from torch.utils.data import DataLoader\n",
        "\n",
        "train_loader = DataLoader(\n",
        "    dataset=train_dataset,\n",
        "    batch_size=32,\n",
        "    shuffle = True,\n",
        ")\n",
        "\n",
        "test_loader = DataLoader(\n",
        "    dataset=test_dataset,\n",
        "    batch_size=32,\n",
        "    shuffle=False\n",
        ")"
      ]
    },
    {
      "cell_type": "code",
      "execution_count": 42,
      "metadata": {},
      "outputs": [
        {
          "data": {
            "text/plain": [
              "(torch.Size([32, 1, 28, 28]), torch.Size([32]))"
            ]
          },
          "execution_count": 42,
          "metadata": {},
          "output_type": "execute_result"
        }
      ],
      "source": [
        "value_, label_ = next(iter(train_loader))\n",
        "value_.shape, label_.shape"
      ]
    },
    {
      "cell_type": "markdown",
      "metadata": {
        "id": "bCCVfXk5xjYS"
      },
      "source": [
        "## 8. Recreate `model_2` used in notebook 03 (the same model from the [CNN Explainer website](https://poloclub.github.io/cnn-explainer/), also known as TinyVGG) capable of fitting on the MNIST dataset."
      ]
    },
    {
      "cell_type": "code",
      "execution_count": 60,
      "metadata": {
        "id": "5IKNF22XbKYS"
      },
      "outputs": [
        {
          "data": {
            "text/plain": [
              "TinyVGG(\n",
              "  (block1): Sequential(\n",
              "    (0): Conv2d(1, 10, kernel_size=(3, 3), stride=(1, 1), padding=(1, 1))\n",
              "    (1): ReLU()\n",
              "    (2): Conv2d(10, 10, kernel_size=(3, 3), stride=(1, 1), padding=(1, 1))\n",
              "    (3): ReLU()\n",
              "    (4): MaxPool2d(kernel_size=2, stride=2, padding=0, dilation=1, ceil_mode=False)\n",
              "  )\n",
              "  (block2): Sequential(\n",
              "    (0): Conv2d(10, 10, kernel_size=(3, 3), stride=(1, 1), padding=(1, 1))\n",
              "    (1): ReLU()\n",
              "    (2): Conv2d(10, 10, kernel_size=(3, 3), stride=(1, 1), padding=(1, 1))\n",
              "    (3): ReLU()\n",
              "    (4): MaxPool2d(kernel_size=2, stride=2, padding=0, dilation=1, ceil_mode=False)\n",
              "  )\n",
              "  (flatten): Flatten(start_dim=1, end_dim=-1)\n",
              "  (classifier): Linear(in_features=490, out_features=10, bias=True)\n",
              ")"
            ]
          },
          "execution_count": 60,
          "metadata": {},
          "output_type": "execute_result"
        }
      ],
      "source": [
        "from torch import nn\n",
        "class TinyVGG(nn.Module):\n",
        "\n",
        "    def __init__(self, filters : int = 10, kernel_size : int = 3, stride : int = 1, padding : int = 1) -> None:\n",
        "        super(TinyVGG, self).__init__()\n",
        "        __conv_hparams = [filters, kernel_size, stride, padding] \n",
        "        self.block1 = nn.Sequential(\n",
        "            nn.Conv2d(1, *__conv_hparams),  # 28 + 2 - 3 + 1 = 28\n",
        "            nn.ReLU(),\n",
        "            nn.Conv2d(filters, *__conv_hparams), # 28\n",
        "            nn.ReLU(),\n",
        "            nn.MaxPool2d(2) # 14\n",
        "        )\n",
        "\n",
        "        self.block2 = nn.Sequential(\n",
        "            nn.Conv2d(filters, *__conv_hparams), # 14\n",
        "            nn.ReLU(),\n",
        "            nn.Conv2d(filters, *__conv_hparams), # 14\n",
        "            nn.ReLU(),\n",
        "            nn.MaxPool2d(2) # 7 \n",
        "        )\n",
        "\n",
        "        self.flatten = nn.Flatten()\n",
        "\n",
        "        self.classifier = nn.Linear(filters*7*7, 10)\n",
        "    \n",
        "    def forward(self, x):\n",
        "        x = self.block1(x)\n",
        "        x = self.block2(x)\n",
        "        x = self.flatten(x)\n",
        "        x = self.classifier(x)\n",
        "        return x\n",
        "\n",
        "tinyvgg = TinyVGG().to(device)\n",
        "tinyvgg\n",
        "    "
      ]
    },
    {
      "cell_type": "markdown",
      "metadata": {
        "id": "sf_3zUr7xlhy"
      },
      "source": [
        "## 9. Train the model you built in exercise 8. for 5 epochs on CPU and GPU and see how long it takes on each."
      ]
    },
    {
      "cell_type": "code",
      "execution_count": 61,
      "metadata": {},
      "outputs": [],
      "source": [
        "loss_fn = nn.CrossEntropyLoss()\n",
        "optimizer = torch.optim.Adam(tinyvgg.parameters(), lr=1e-3)"
      ]
    },
    {
      "cell_type": "code",
      "execution_count": 62,
      "metadata": {},
      "outputs": [],
      "source": [
        "def accuracy_fn(y_pred, y_true):\n",
        "    return torch.eq(y_pred, y_true).sum().item() / len(y_true)"
      ]
    },
    {
      "cell_type": "code",
      "execution_count": 64,
      "metadata": {
        "id": "jSo6vVWFbNLD"
      },
      "outputs": [
        {
          "name": "stdout",
          "output_type": "stream",
          "text": [
            "Train Loss : 0.36142796085675555 | | Val Loss : 0.3547386097641418 | Val Accuracy :  0.87 \n",
            "Train Loss : 0.3199005692780018 | | Val Loss : 0.32570885112300846 | Val Accuracy :  0.88 \n",
            "Train Loss : 0.2921923441946507 | | Val Loss : 0.2994773381719955 | Val Accuracy :  0.89 \n",
            "Train Loss : 0.27384495639801026 | | Val Loss : 0.2948367875485946 | Val Accuracy :  0.89 \n",
            "Train Loss : 0.2589024266203245 | | Val Loss : 0.28877187948733474 | Val Accuracy :  0.90 \n"
          ]
        }
      ],
      "source": [
        "from time import perf_counter\n",
        "from statistics import mean\n",
        "epochs = 5\n",
        "accuracies = []\n",
        "train_losses = []\n",
        "val_losses = []\n",
        "all_y_val = torch.cat([batch_labels for _,batch_labels in test_loader])\n",
        "\n",
        "for i in range(5):\n",
        "    mean_loss_train = []\n",
        "    mean_loss_val = []\n",
        "    val_preds = []\n",
        "    for x_train, y_train in train_loader:\n",
        "        tinyvgg.train()\n",
        "        y_logits = tinyvgg(x_train)\n",
        "        \n",
        "        loss = loss_fn(y_logits, y_train)\n",
        "        mean_loss_train.append(loss.detach().cpu().item())\n",
        "\n",
        "        optimizer.zero_grad()\n",
        "\n",
        "        loss.backward()\n",
        "\n",
        "        optimizer.step()\n",
        "\n",
        "    train_losses.append(mean(mean_loss_train))\n",
        "\n",
        "    with torch.inference_mode():\n",
        "        for x_val, y_val in test_loader:\n",
        "            tinyvgg.eval()\n",
        "            val_logits = tinyvgg(x_val)\n",
        "\n",
        "            val_loss = loss_fn(val_logits, y_val)\n",
        "            mean_loss_val.append(val_loss.detach().cpu().item())\n",
        "\n",
        "            val_preds.extend(torch.argmax(val_logits, dim = -1))\n",
        "    \n",
        "    acc = accuracy_fn(torch.as_tensor(val_preds), all_y_val)\n",
        "    \n",
        "    val_losses.append(mean(mean_loss_val))\n",
        "    print(f\"Train Loss : {mean(mean_loss_train)} | | Val Loss : {mean(mean_loss_val)} | Val Accuracy : {acc: .2f} \")\n",
        "            "
      ]
    },
    {
      "cell_type": "markdown",
      "metadata": {
        "id": "w1CsHhPpxp1w"
      },
      "source": [
        "## 10. Make predictions using your trained model and visualize at least 5 of them comparing the prediciton to the target label."
      ]
    },
    {
      "cell_type": "code",
      "execution_count": 93,
      "metadata": {
        "id": "_YGgZvSobNxu"
      },
      "outputs": [
        {
          "data": {
            "image/png": "[encoded data removed]",
            "text/plain": [
              "<Figure size 800x800 with 6 Axes>"
            ]
          },
          "metadata": {},
          "output_type": "display_data"
        }
      ],
      "source": [
        "with torch.inference_mode():\n",
        "    tinyvgg.eval()\n",
        "    idx = torch.randint(0, len(train_dataset), size=[6])\n",
        "    X = train_dataset.data[idx]\n",
        "    _X = X.view(6, 1, 28, -1).type(torch.float)\n",
        "    y = train_dataset.targets[idx]\n",
        "\n",
        "    y_pred = tinyvgg(_X)\n",
        "    y_pred = torch.argmax(y_pred, dim=-1)\n",
        "\n",
        "    fig, axs = plt.subplots(2, 3, figsize=(8, 8))\n",
        "    index = 0\n",
        "    for i in range(2):\n",
        "        for j in range(3):\n",
        "            axs[i, j].imshow(X[index], cmap = 'gray')\n",
        "            axs[i, j].set_title(f'Predicted: {y_pred[index]} / True: {y[index]}')\n",
        "            axs[i, j].axis('off')\n",
        "            index += 1\n",
        "    plt.show()"
      ]
    },
    {
      "cell_type": "markdown",
      "metadata": {
        "id": "qQwzqlBWxrpG"
      },
      "source": [
        "## 11. Plot a confusion matrix comparing your model's predictions to the truth labels."
      ]
    },
    {
      "cell_type": "code",
      "execution_count": 95,
      "metadata": {},
      "outputs": [
        {
          "name": "stdout",
          "output_type": "stream",
          "text": [
            "[[899   0  18  23   4   1  49   0   6   0]\n",
            " [  1 968   1  22   3   0   4   0   1   0]\n",
            " [ 18   0 792  10 116   0  60   0   4   0]\n",
            " [ 19   4  13 922  22   0  20   0   0   0]\n",
            " [  0   0  39  32 884   0  45   0   0   0]\n",
            " [  0   0   0   0   0 980   0  16   0   4]\n",
            " [186   1  44  33  90   0 639   0   7   0]\n",
            " [  0   0   0   0   0   8   0 975   0  17]\n",
            " [  3   1   3   2   4   1   9   5 972   0]\n",
            " [  0   0   0   0   0   6   1  29   0 964]]\n"
          ]
        }
      ],
      "source": [
        "from sklearn.metrics import confusion_matrix\n",
        "with torch.inference_mode():\n",
        "    tinyvgg.eval()\n",
        "    test_loader = DataLoader(\n",
        "        dataset = test_dataset,\n",
        "        batch_size=len(test_dataset),\n",
        "        shuffle = False\n",
        "    )\n",
        "    X_test, y_test = next(iter(test_loader))\n",
        "\n",
        "    y_pred = tinyvgg(X_test)\n",
        "    y_pred = torch.argmax(y_pred, dim = -1)\n",
        "\n",
        "    cm = confusion_matrix(y_test, y_pred)\n",
        "    print(cm)"
      ]
    },
    {
      "cell_type": "code",
      "execution_count": 97,
      "metadata": {},
      "outputs": [
        {
          "data": {
            "text/plain": [
              "<Axes: >"
            ]
          },
          "execution_count": 97,
          "metadata": {},
          "output_type": "execute_result"
        },
        {
          "data": {
            "image/png": "[encoded data removed]",
            "text/plain": [
              "<Figure size 640x480 with 2 Axes>"
            ]
          },
          "metadata": {},
          "output_type": "display_data"
        }
      ],
      "source": [
        "import seaborn as sns\n",
        "sns.heatmap(cm, annot=Tr)"
      ]
    },
    {
      "cell_type": "markdown",
      "metadata": {
        "id": "lj6bDhoWxt2y"
      },
      "source": [
        "## 12. Create a random tensor of shape `[1, 3, 64, 64]` and pass it through a `nn.Conv2d()` layer with various hyperparameter settings (these can be any settings you choose), what do you notice if the `kernel_size` parameter goes up and down?"
      ]
    },
    {
      "cell_type": "code",
      "execution_count": 7,
      "metadata": {
        "id": "leCTsqtSbR5P"
      },
      "outputs": [
        {
          "name": "stdout",
          "output_type": "stream",
          "text": [
            "torch.Size([1, 2, 64, 64])\n",
            "torch.Size([1, 2, 63, 63])\n",
            "torch.Size([1, 2, 62, 62])\n",
            "torch.Size([1, 2, 61, 61])\n",
            "torch.Size([1, 2, 60, 60])\n",
            "torch.Size([1, 2, 59, 59])\n",
            "torch.Size([1, 2, 58, 58])\n",
            "torch.Size([1, 2, 57, 57])\n",
            "torch.Size([1, 2, 56, 56])\n",
            "torch.Size([1, 2, 55, 55])\n"
          ]
        }
      ],
      "source": [
        "from torch import nn \n",
        "import torch \n",
        "import matplotlib.pyplot as plt\n",
        "image = torch.rand((1,3,64,64))\n",
        "kernels = [1,2,3,4,5,6,7,8,9,10]\n",
        "for k in kernels:\n",
        "    conv = nn.Conv2d(3, 2, k, 1)\n",
        "    print(conv(image).shape)"
      ]
    }
  ],
  "metadata": {
    "accelerator": "GPU",
    "colab": {
      "authorship_tag": "ABX9TyMUsDcN/+FAm9Pf7Ifqs6AZ",
      "collapsed_sections": [],
      "include_colab_link": true,
      "name": "03_pytorch_computer_vision_exercises.ipynb",
      "provenance": []
    },
    "kernelspec": {
      "display_name": "Python 3",
      "name": "python3"
    },
    "language_info": {
      "codemirror_mode": {
        "name": "ipython",
        "version": 3
      },
      "file_extension": ".py",
      "mimetype": "text/x-python",
      "name": "python",
      "nbconvert_exporter": "python",
      "pygments_lexer": "ipython3",
      "version": "3.10.9"
    }
  },
  "nbformat": 4,
  "nbformat_minor": 0
}
